{
  "nbformat": 4,
  "nbformat_minor": 0,
  "metadata": {
    "colab": {
      "provenance": [],
      "include_colab_link": true
    },
    "kernelspec": {
      "name": "python3",
      "display_name": "Python 3"
    },
    "language_info": {
      "name": "python"
    }
  },
  "cells": [
    {
      "cell_type": "markdown",
      "metadata": {
        "id": "view-in-github",
        "colab_type": "text"
      },
      "source": [
        "<a href=\"https://colab.research.google.com/github/ArthurFR28/ArthurFR28/blob/main/Gest%C3%A3o_de_dados_Script_Notebook.ipynb\" target=\"_parent\"><img src=\"https://colab.research.google.com/assets/colab-badge.svg\" alt=\"Open In Colab\"/></a>"
      ]
    },
    {
      "cell_type": "code",
      "execution_count": null,
      "metadata": {
        "id": "Hq-lYZiQKS7K"
      },
      "outputs": [],
      "source": [
        "import pandas as pd\n",
        "import numpy as np\n",
        "import matplotlib.pyplot as plt\n",
        "import sklearn as sk"
      ]
    },
    {
      "cell_type": "code",
      "source": [
        "df = pd.read_csv('trabalho_bom_amigo.csv')\n"
      ],
      "metadata": {
        "id": "aasSDrAUKe8e"
      },
      "execution_count": null,
      "outputs": []
    },
    {
      "cell_type": "code",
      "source": [
        "df.head()"
      ],
      "metadata": {
        "colab": {
          "base_uri": "https://localhost:8080/",
          "height": 733
        },
        "id": "NppYYRjIK__U",
        "outputId": "45cbe894-bb30-4479-de7a-82bc482ef172"
      },
      "execution_count": null,
      "outputs": [
        {
          "output_type": "execute_result",
          "data": {
            "text/plain": [
              "   Unnamed: 0  Tipo         Nome  Idade  raca1  raca2  Genero  Cor1  Cor2  \\\n",
              "0           0     2       Nibble      3    299      0       1     1     7   \n",
              "1           1     2  No Name Yet      1    265      0       1     1     2   \n",
              "2           2     1       Brisco      1    307      0       1     2     7   \n",
              "3           3     1         Miko      4    307      0       2     1     2   \n",
              "4           4     1       Hunter      1    307      0       1     1     0   \n",
              "\n",
              "   Cor3  ...  TamanhoPelagem  Vacinado  Vermifugado  Castrado  Saude  Taxa  \\\n",
              "0     0  ...               1         2            2         2      1   100   \n",
              "1     0  ...               2         3            3         3      1     0   \n",
              "2     0  ...               2         1            1         2      1     0   \n",
              "3     0  ...               1         1            1         2      1   150   \n",
              "4     0  ...               1         2            2         2      1     0   \n",
              "\n",
              "   QuantidadeVideos                                          Descricao  \\\n",
              "0                 0  Nibble is a 3+ month old ball of cuteness. He ...   \n",
              "1                 0  I just found it alone yesterday near my apartm...   \n",
              "2                 0  Their pregnant mother was dumped by her irresp...   \n",
              "3                 0  Good guard dog, very alert, active, obedience ...   \n",
              "4                 0  This handsome yet cute boy is up for adoption....   \n",
              "\n",
              "  QuantidadeFotos  VelocidadeAdocao  \n",
              "0             1.0                 2  \n",
              "1             2.0                 0  \n",
              "2             7.0                 3  \n",
              "3             8.0                 2  \n",
              "4             3.0                 2  \n",
              "\n",
              "[5 rows x 21 columns]"
            ],
            "text/html": [
              "\n",
              "  <div id=\"df-94b032b9-78a0-48e7-a717-5514d486fefc\">\n",
              "    <div class=\"colab-df-container\">\n",
              "      <div>\n",
              "<style scoped>\n",
              "    .dataframe tbody tr th:only-of-type {\n",
              "        vertical-align: middle;\n",
              "    }\n",
              "\n",
              "    .dataframe tbody tr th {\n",
              "        vertical-align: top;\n",
              "    }\n",
              "\n",
              "    .dataframe thead th {\n",
              "        text-align: right;\n",
              "    }\n",
              "</style>\n",
              "<table border=\"1\" class=\"dataframe\">\n",
              "  <thead>\n",
              "    <tr style=\"text-align: right;\">\n",
              "      <th></th>\n",
              "      <th>Unnamed: 0</th>\n",
              "      <th>Tipo</th>\n",
              "      <th>Nome</th>\n",
              "      <th>Idade</th>\n",
              "      <th>raca1</th>\n",
              "      <th>raca2</th>\n",
              "      <th>Genero</th>\n",
              "      <th>Cor1</th>\n",
              "      <th>Cor2</th>\n",
              "      <th>Cor3</th>\n",
              "      <th>...</th>\n",
              "      <th>TamanhoPelagem</th>\n",
              "      <th>Vacinado</th>\n",
              "      <th>Vermifugado</th>\n",
              "      <th>Castrado</th>\n",
              "      <th>Saude</th>\n",
              "      <th>Taxa</th>\n",
              "      <th>QuantidadeVideos</th>\n",
              "      <th>Descricao</th>\n",
              "      <th>QuantidadeFotos</th>\n",
              "      <th>VelocidadeAdocao</th>\n",
              "    </tr>\n",
              "  </thead>\n",
              "  <tbody>\n",
              "    <tr>\n",
              "      <th>0</th>\n",
              "      <td>0</td>\n",
              "      <td>2</td>\n",
              "      <td>Nibble</td>\n",
              "      <td>3</td>\n",
              "      <td>299</td>\n",
              "      <td>0</td>\n",
              "      <td>1</td>\n",
              "      <td>1</td>\n",
              "      <td>7</td>\n",
              "      <td>0</td>\n",
              "      <td>...</td>\n",
              "      <td>1</td>\n",
              "      <td>2</td>\n",
              "      <td>2</td>\n",
              "      <td>2</td>\n",
              "      <td>1</td>\n",
              "      <td>100</td>\n",
              "      <td>0</td>\n",
              "      <td>Nibble is a 3+ month old ball of cuteness. He ...</td>\n",
              "      <td>1.0</td>\n",
              "      <td>2</td>\n",
              "    </tr>\n",
              "    <tr>\n",
              "      <th>1</th>\n",
              "      <td>1</td>\n",
              "      <td>2</td>\n",
              "      <td>No Name Yet</td>\n",
              "      <td>1</td>\n",
              "      <td>265</td>\n",
              "      <td>0</td>\n",
              "      <td>1</td>\n",
              "      <td>1</td>\n",
              "      <td>2</td>\n",
              "      <td>0</td>\n",
              "      <td>...</td>\n",
              "      <td>2</td>\n",
              "      <td>3</td>\n",
              "      <td>3</td>\n",
              "      <td>3</td>\n",
              "      <td>1</td>\n",
              "      <td>0</td>\n",
              "      <td>0</td>\n",
              "      <td>I just found it alone yesterday near my apartm...</td>\n",
              "      <td>2.0</td>\n",
              "      <td>0</td>\n",
              "    </tr>\n",
              "    <tr>\n",
              "      <th>2</th>\n",
              "      <td>2</td>\n",
              "      <td>1</td>\n",
              "      <td>Brisco</td>\n",
              "      <td>1</td>\n",
              "      <td>307</td>\n",
              "      <td>0</td>\n",
              "      <td>1</td>\n",
              "      <td>2</td>\n",
              "      <td>7</td>\n",
              "      <td>0</td>\n",
              "      <td>...</td>\n",
              "      <td>2</td>\n",
              "      <td>1</td>\n",
              "      <td>1</td>\n",
              "      <td>2</td>\n",
              "      <td>1</td>\n",
              "      <td>0</td>\n",
              "      <td>0</td>\n",
              "      <td>Their pregnant mother was dumped by her irresp...</td>\n",
              "      <td>7.0</td>\n",
              "      <td>3</td>\n",
              "    </tr>\n",
              "    <tr>\n",
              "      <th>3</th>\n",
              "      <td>3</td>\n",
              "      <td>1</td>\n",
              "      <td>Miko</td>\n",
              "      <td>4</td>\n",
              "      <td>307</td>\n",
              "      <td>0</td>\n",
              "      <td>2</td>\n",
              "      <td>1</td>\n",
              "      <td>2</td>\n",
              "      <td>0</td>\n",
              "      <td>...</td>\n",
              "      <td>1</td>\n",
              "      <td>1</td>\n",
              "      <td>1</td>\n",
              "      <td>2</td>\n",
              "      <td>1</td>\n",
              "      <td>150</td>\n",
              "      <td>0</td>\n",
              "      <td>Good guard dog, very alert, active, obedience ...</td>\n",
              "      <td>8.0</td>\n",
              "      <td>2</td>\n",
              "    </tr>\n",
              "    <tr>\n",
              "      <th>4</th>\n",
              "      <td>4</td>\n",
              "      <td>1</td>\n",
              "      <td>Hunter</td>\n",
              "      <td>1</td>\n",
              "      <td>307</td>\n",
              "      <td>0</td>\n",
              "      <td>1</td>\n",
              "      <td>1</td>\n",
              "      <td>0</td>\n",
              "      <td>0</td>\n",
              "      <td>...</td>\n",
              "      <td>1</td>\n",
              "      <td>2</td>\n",
              "      <td>2</td>\n",
              "      <td>2</td>\n",
              "      <td>1</td>\n",
              "      <td>0</td>\n",
              "      <td>0</td>\n",
              "      <td>This handsome yet cute boy is up for adoption....</td>\n",
              "      <td>3.0</td>\n",
              "      <td>2</td>\n",
              "    </tr>\n",
              "  </tbody>\n",
              "</table>\n",
              "<p>5 rows × 21 columns</p>\n",
              "</div>\n",
              "      <button class=\"colab-df-convert\" onclick=\"convertToInteractive('df-94b032b9-78a0-48e7-a717-5514d486fefc')\"\n",
              "              title=\"Convert this dataframe to an interactive table.\"\n",
              "              style=\"display:none;\">\n",
              "        \n",
              "  <svg xmlns=\"http://www.w3.org/2000/svg\" height=\"24px\"viewBox=\"0 0 24 24\"\n",
              "       width=\"24px\">\n",
              "    <path d=\"M0 0h24v24H0V0z\" fill=\"none\"/>\n",
              "    <path d=\"M18.56 5.44l.94 2.06.94-2.06 2.06-.94-2.06-.94-.94-2.06-.94 2.06-2.06.94zm-11 1L8.5 8.5l.94-2.06 2.06-.94-2.06-.94L8.5 2.5l-.94 2.06-2.06.94zm10 10l.94 2.06.94-2.06 2.06-.94-2.06-.94-.94-2.06-.94 2.06-2.06.94z\"/><path d=\"M17.41 7.96l-1.37-1.37c-.4-.4-.92-.59-1.43-.59-.52 0-1.04.2-1.43.59L10.3 9.45l-7.72 7.72c-.78.78-.78 2.05 0 2.83L4 21.41c.39.39.9.59 1.41.59.51 0 1.02-.2 1.41-.59l7.78-7.78 2.81-2.81c.8-.78.8-2.07 0-2.86zM5.41 20L4 18.59l7.72-7.72 1.47 1.35L5.41 20z\"/>\n",
              "  </svg>\n",
              "      </button>\n",
              "      \n",
              "  <style>\n",
              "    .colab-df-container {\n",
              "      display:flex;\n",
              "      flex-wrap:wrap;\n",
              "      gap: 12px;\n",
              "    }\n",
              "\n",
              "    .colab-df-convert {\n",
              "      background-color: #E8F0FE;\n",
              "      border: none;\n",
              "      border-radius: 50%;\n",
              "      cursor: pointer;\n",
              "      display: none;\n",
              "      fill: #1967D2;\n",
              "      height: 32px;\n",
              "      padding: 0 0 0 0;\n",
              "      width: 32px;\n",
              "    }\n",
              "\n",
              "    .colab-df-convert:hover {\n",
              "      background-color: #E2EBFA;\n",
              "      box-shadow: 0px 1px 2px rgba(60, 64, 67, 0.3), 0px 1px 3px 1px rgba(60, 64, 67, 0.15);\n",
              "      fill: #174EA6;\n",
              "    }\n",
              "\n",
              "    [theme=dark] .colab-df-convert {\n",
              "      background-color: #3B4455;\n",
              "      fill: #D2E3FC;\n",
              "    }\n",
              "\n",
              "    [theme=dark] .colab-df-convert:hover {\n",
              "      background-color: #434B5C;\n",
              "      box-shadow: 0px 1px 3px 1px rgba(0, 0, 0, 0.15);\n",
              "      filter: drop-shadow(0px 1px 2px rgba(0, 0, 0, 0.3));\n",
              "      fill: #FFFFFF;\n",
              "    }\n",
              "  </style>\n",
              "\n",
              "      <script>\n",
              "        const buttonEl =\n",
              "          document.querySelector('#df-94b032b9-78a0-48e7-a717-5514d486fefc button.colab-df-convert');\n",
              "        buttonEl.style.display =\n",
              "          google.colab.kernel.accessAllowed ? 'block' : 'none';\n",
              "\n",
              "        async function convertToInteractive(key) {\n",
              "          const element = document.querySelector('#df-94b032b9-78a0-48e7-a717-5514d486fefc');\n",
              "          const dataTable =\n",
              "            await google.colab.kernel.invokeFunction('convertToInteractive',\n",
              "                                                     [key], {});\n",
              "          if (!dataTable) return;\n",
              "\n",
              "          const docLinkHtml = 'Like what you see? Visit the ' +\n",
              "            '<a target=\"_blank\" href=https://colab.research.google.com/notebooks/data_table.ipynb>data table notebook</a>'\n",
              "            + ' to learn more about interactive tables.';\n",
              "          element.innerHTML = '';\n",
              "          dataTable['output_type'] = 'display_data';\n",
              "          await google.colab.output.renderOutput(dataTable, element);\n",
              "          const docLink = document.createElement('div');\n",
              "          docLink.innerHTML = docLinkHtml;\n",
              "          element.appendChild(docLink);\n",
              "        }\n",
              "      </script>\n",
              "    </div>\n",
              "  </div>\n",
              "  "
            ]
          },
          "metadata": {},
          "execution_count": 6
        }
      ]
    },
    {
      "cell_type": "code",
      "source": [
        "df.describe()"
      ],
      "metadata": {
        "colab": {
          "base_uri": "https://localhost:8080/",
          "height": 364
        },
        "id": "5Nin2JnFLALi",
        "outputId": "5e375970-2a59-4667-99cf-de0c1b48fe63"
      },
      "execution_count": null,
      "outputs": [
        {
          "output_type": "execute_result",
          "data": {
            "text/plain": [
              "         Unnamed: 0          Tipo         Idade         raca1         raca2  \\\n",
              "count  11565.000000  11565.000000  11565.000000  11565.000000  11565.000000   \n",
              "mean    7523.610290      1.427410     11.783831    262.460960     68.901167   \n",
              "std     4318.711822      0.494724     19.361008     63.718124    120.059559   \n",
              "min        0.000000      1.000000      0.000000      0.000000      0.000000   \n",
              "25%     3798.000000      1.000000      2.000000    265.000000      0.000000   \n",
              "50%     7520.000000      1.000000      4.000000    266.000000      0.000000   \n",
              "75%    11274.000000      2.000000     12.000000    307.000000    103.000000   \n",
              "max    14992.000000      2.000000    255.000000    307.000000    307.000000   \n",
              "\n",
              "             Genero          Cor1          Cor2          Cor3  \\\n",
              "count  11565.000000  11565.000000  11565.000000  11565.000000   \n",
              "mean       1.560138      2.354259      3.142153      1.406658   \n",
              "std        0.496392      1.801639      2.854271      2.705326   \n",
              "min        1.000000      1.000000      0.000000      0.000000   \n",
              "25%        1.000000      1.000000      0.000000      0.000000   \n",
              "50%        2.000000      2.000000      2.000000      0.000000   \n",
              "75%        2.000000      3.000000      7.000000      0.000000   \n",
              "max        2.000000      7.000000      7.000000      7.000000   \n",
              "\n",
              "       TamanhoQuandoAdulto  TamanhoPelagem      Vacinado   Vermifugado  \\\n",
              "count         11565.000000    11565.000000  11565.000000  11565.000000   \n",
              "mean              1.880415        1.483441      1.691915      1.511198   \n",
              "std               0.547597        0.610787      0.689854      0.704030   \n",
              "min               1.000000        1.000000      1.000000      1.000000   \n",
              "25%               2.000000        1.000000      1.000000      1.000000   \n",
              "50%               2.000000        1.000000      2.000000      1.000000   \n",
              "75%               2.000000        2.000000      2.000000      2.000000   \n",
              "max               4.000000        3.000000      3.000000      3.000000   \n",
              "\n",
              "           Castrado         Saude          Taxa  QuantidadeVideos  \\\n",
              "count  11565.000000  11565.000000  11565.000000      11565.000000   \n",
              "mean       1.882144      1.040813     23.998703          0.053610   \n",
              "std        0.580315      0.210568     80.182994          0.314907   \n",
              "min        1.000000      1.000000      0.000000          0.000000   \n",
              "25%        2.000000      1.000000      0.000000          0.000000   \n",
              "50%        2.000000      1.000000      0.000000          0.000000   \n",
              "75%        2.000000      1.000000      0.000000          0.000000   \n",
              "max        3.000000      3.000000   2000.000000          6.000000   \n",
              "\n",
              "       QuantidadeFotos  VelocidadeAdocao  \n",
              "count     11565.000000      11565.000000  \n",
              "mean          3.607696          2.485171  \n",
              "std           3.143203          1.173054  \n",
              "min           0.000000          0.000000  \n",
              "25%           2.000000          2.000000  \n",
              "50%           3.000000          2.000000  \n",
              "75%           5.000000          4.000000  \n",
              "max          30.000000          4.000000  "
            ],
            "text/html": [
              "\n",
              "  <div id=\"df-a6c0f104-35de-4e1c-867c-d57df1f0ccf8\">\n",
              "    <div class=\"colab-df-container\">\n",
              "      <div>\n",
              "<style scoped>\n",
              "    .dataframe tbody tr th:only-of-type {\n",
              "        vertical-align: middle;\n",
              "    }\n",
              "\n",
              "    .dataframe tbody tr th {\n",
              "        vertical-align: top;\n",
              "    }\n",
              "\n",
              "    .dataframe thead th {\n",
              "        text-align: right;\n",
              "    }\n",
              "</style>\n",
              "<table border=\"1\" class=\"dataframe\">\n",
              "  <thead>\n",
              "    <tr style=\"text-align: right;\">\n",
              "      <th></th>\n",
              "      <th>Unnamed: 0</th>\n",
              "      <th>Tipo</th>\n",
              "      <th>Idade</th>\n",
              "      <th>raca1</th>\n",
              "      <th>raca2</th>\n",
              "      <th>Genero</th>\n",
              "      <th>Cor1</th>\n",
              "      <th>Cor2</th>\n",
              "      <th>Cor3</th>\n",
              "      <th>TamanhoQuandoAdulto</th>\n",
              "      <th>TamanhoPelagem</th>\n",
              "      <th>Vacinado</th>\n",
              "      <th>Vermifugado</th>\n",
              "      <th>Castrado</th>\n",
              "      <th>Saude</th>\n",
              "      <th>Taxa</th>\n",
              "      <th>QuantidadeVideos</th>\n",
              "      <th>QuantidadeFotos</th>\n",
              "      <th>VelocidadeAdocao</th>\n",
              "    </tr>\n",
              "  </thead>\n",
              "  <tbody>\n",
              "    <tr>\n",
              "      <th>count</th>\n",
              "      <td>11565.000000</td>\n",
              "      <td>11565.000000</td>\n",
              "      <td>11565.000000</td>\n",
              "      <td>11565.000000</td>\n",
              "      <td>11565.000000</td>\n",
              "      <td>11565.000000</td>\n",
              "      <td>11565.000000</td>\n",
              "      <td>11565.000000</td>\n",
              "      <td>11565.000000</td>\n",
              "      <td>11565.000000</td>\n",
              "      <td>11565.000000</td>\n",
              "      <td>11565.000000</td>\n",
              "      <td>11565.000000</td>\n",
              "      <td>11565.000000</td>\n",
              "      <td>11565.000000</td>\n",
              "      <td>11565.000000</td>\n",
              "      <td>11565.000000</td>\n",
              "      <td>11565.000000</td>\n",
              "      <td>11565.000000</td>\n",
              "    </tr>\n",
              "    <tr>\n",
              "      <th>mean</th>\n",
              "      <td>7523.610290</td>\n",
              "      <td>1.427410</td>\n",
              "      <td>11.783831</td>\n",
              "      <td>262.460960</td>\n",
              "      <td>68.901167</td>\n",
              "      <td>1.560138</td>\n",
              "      <td>2.354259</td>\n",
              "      <td>3.142153</td>\n",
              "      <td>1.406658</td>\n",
              "      <td>1.880415</td>\n",
              "      <td>1.483441</td>\n",
              "      <td>1.691915</td>\n",
              "      <td>1.511198</td>\n",
              "      <td>1.882144</td>\n",
              "      <td>1.040813</td>\n",
              "      <td>23.998703</td>\n",
              "      <td>0.053610</td>\n",
              "      <td>3.607696</td>\n",
              "      <td>2.485171</td>\n",
              "    </tr>\n",
              "    <tr>\n",
              "      <th>std</th>\n",
              "      <td>4318.711822</td>\n",
              "      <td>0.494724</td>\n",
              "      <td>19.361008</td>\n",
              "      <td>63.718124</td>\n",
              "      <td>120.059559</td>\n",
              "      <td>0.496392</td>\n",
              "      <td>1.801639</td>\n",
              "      <td>2.854271</td>\n",
              "      <td>2.705326</td>\n",
              "      <td>0.547597</td>\n",
              "      <td>0.610787</td>\n",
              "      <td>0.689854</td>\n",
              "      <td>0.704030</td>\n",
              "      <td>0.580315</td>\n",
              "      <td>0.210568</td>\n",
              "      <td>80.182994</td>\n",
              "      <td>0.314907</td>\n",
              "      <td>3.143203</td>\n",
              "      <td>1.173054</td>\n",
              "    </tr>\n",
              "    <tr>\n",
              "      <th>min</th>\n",
              "      <td>0.000000</td>\n",
              "      <td>1.000000</td>\n",
              "      <td>0.000000</td>\n",
              "      <td>0.000000</td>\n",
              "      <td>0.000000</td>\n",
              "      <td>1.000000</td>\n",
              "      <td>1.000000</td>\n",
              "      <td>0.000000</td>\n",
              "      <td>0.000000</td>\n",
              "      <td>1.000000</td>\n",
              "      <td>1.000000</td>\n",
              "      <td>1.000000</td>\n",
              "      <td>1.000000</td>\n",
              "      <td>1.000000</td>\n",
              "      <td>1.000000</td>\n",
              "      <td>0.000000</td>\n",
              "      <td>0.000000</td>\n",
              "      <td>0.000000</td>\n",
              "      <td>0.000000</td>\n",
              "    </tr>\n",
              "    <tr>\n",
              "      <th>25%</th>\n",
              "      <td>3798.000000</td>\n",
              "      <td>1.000000</td>\n",
              "      <td>2.000000</td>\n",
              "      <td>265.000000</td>\n",
              "      <td>0.000000</td>\n",
              "      <td>1.000000</td>\n",
              "      <td>1.000000</td>\n",
              "      <td>0.000000</td>\n",
              "      <td>0.000000</td>\n",
              "      <td>2.000000</td>\n",
              "      <td>1.000000</td>\n",
              "      <td>1.000000</td>\n",
              "      <td>1.000000</td>\n",
              "      <td>2.000000</td>\n",
              "      <td>1.000000</td>\n",
              "      <td>0.000000</td>\n",
              "      <td>0.000000</td>\n",
              "      <td>2.000000</td>\n",
              "      <td>2.000000</td>\n",
              "    </tr>\n",
              "    <tr>\n",
              "      <th>50%</th>\n",
              "      <td>7520.000000</td>\n",
              "      <td>1.000000</td>\n",
              "      <td>4.000000</td>\n",
              "      <td>266.000000</td>\n",
              "      <td>0.000000</td>\n",
              "      <td>2.000000</td>\n",
              "      <td>2.000000</td>\n",
              "      <td>2.000000</td>\n",
              "      <td>0.000000</td>\n",
              "      <td>2.000000</td>\n",
              "      <td>1.000000</td>\n",
              "      <td>2.000000</td>\n",
              "      <td>1.000000</td>\n",
              "      <td>2.000000</td>\n",
              "      <td>1.000000</td>\n",
              "      <td>0.000000</td>\n",
              "      <td>0.000000</td>\n",
              "      <td>3.000000</td>\n",
              "      <td>2.000000</td>\n",
              "    </tr>\n",
              "    <tr>\n",
              "      <th>75%</th>\n",
              "      <td>11274.000000</td>\n",
              "      <td>2.000000</td>\n",
              "      <td>12.000000</td>\n",
              "      <td>307.000000</td>\n",
              "      <td>103.000000</td>\n",
              "      <td>2.000000</td>\n",
              "      <td>3.000000</td>\n",
              "      <td>7.000000</td>\n",
              "      <td>0.000000</td>\n",
              "      <td>2.000000</td>\n",
              "      <td>2.000000</td>\n",
              "      <td>2.000000</td>\n",
              "      <td>2.000000</td>\n",
              "      <td>2.000000</td>\n",
              "      <td>1.000000</td>\n",
              "      <td>0.000000</td>\n",
              "      <td>0.000000</td>\n",
              "      <td>5.000000</td>\n",
              "      <td>4.000000</td>\n",
              "    </tr>\n",
              "    <tr>\n",
              "      <th>max</th>\n",
              "      <td>14992.000000</td>\n",
              "      <td>2.000000</td>\n",
              "      <td>255.000000</td>\n",
              "      <td>307.000000</td>\n",
              "      <td>307.000000</td>\n",
              "      <td>2.000000</td>\n",
              "      <td>7.000000</td>\n",
              "      <td>7.000000</td>\n",
              "      <td>7.000000</td>\n",
              "      <td>4.000000</td>\n",
              "      <td>3.000000</td>\n",
              "      <td>3.000000</td>\n",
              "      <td>3.000000</td>\n",
              "      <td>3.000000</td>\n",
              "      <td>3.000000</td>\n",
              "      <td>2000.000000</td>\n",
              "      <td>6.000000</td>\n",
              "      <td>30.000000</td>\n",
              "      <td>4.000000</td>\n",
              "    </tr>\n",
              "  </tbody>\n",
              "</table>\n",
              "</div>\n",
              "      <button class=\"colab-df-convert\" onclick=\"convertToInteractive('df-a6c0f104-35de-4e1c-867c-d57df1f0ccf8')\"\n",
              "              title=\"Convert this dataframe to an interactive table.\"\n",
              "              style=\"display:none;\">\n",
              "        \n",
              "  <svg xmlns=\"http://www.w3.org/2000/svg\" height=\"24px\"viewBox=\"0 0 24 24\"\n",
              "       width=\"24px\">\n",
              "    <path d=\"M0 0h24v24H0V0z\" fill=\"none\"/>\n",
              "    <path d=\"M18.56 5.44l.94 2.06.94-2.06 2.06-.94-2.06-.94-.94-2.06-.94 2.06-2.06.94zm-11 1L8.5 8.5l.94-2.06 2.06-.94-2.06-.94L8.5 2.5l-.94 2.06-2.06.94zm10 10l.94 2.06.94-2.06 2.06-.94-2.06-.94-.94-2.06-.94 2.06-2.06.94z\"/><path d=\"M17.41 7.96l-1.37-1.37c-.4-.4-.92-.59-1.43-.59-.52 0-1.04.2-1.43.59L10.3 9.45l-7.72 7.72c-.78.78-.78 2.05 0 2.83L4 21.41c.39.39.9.59 1.41.59.51 0 1.02-.2 1.41-.59l7.78-7.78 2.81-2.81c.8-.78.8-2.07 0-2.86zM5.41 20L4 18.59l7.72-7.72 1.47 1.35L5.41 20z\"/>\n",
              "  </svg>\n",
              "      </button>\n",
              "      \n",
              "  <style>\n",
              "    .colab-df-container {\n",
              "      display:flex;\n",
              "      flex-wrap:wrap;\n",
              "      gap: 12px;\n",
              "    }\n",
              "\n",
              "    .colab-df-convert {\n",
              "      background-color: #E8F0FE;\n",
              "      border: none;\n",
              "      border-radius: 50%;\n",
              "      cursor: pointer;\n",
              "      display: none;\n",
              "      fill: #1967D2;\n",
              "      height: 32px;\n",
              "      padding: 0 0 0 0;\n",
              "      width: 32px;\n",
              "    }\n",
              "\n",
              "    .colab-df-convert:hover {\n",
              "      background-color: #E2EBFA;\n",
              "      box-shadow: 0px 1px 2px rgba(60, 64, 67, 0.3), 0px 1px 3px 1px rgba(60, 64, 67, 0.15);\n",
              "      fill: #174EA6;\n",
              "    }\n",
              "\n",
              "    [theme=dark] .colab-df-convert {\n",
              "      background-color: #3B4455;\n",
              "      fill: #D2E3FC;\n",
              "    }\n",
              "\n",
              "    [theme=dark] .colab-df-convert:hover {\n",
              "      background-color: #434B5C;\n",
              "      box-shadow: 0px 1px 3px 1px rgba(0, 0, 0, 0.15);\n",
              "      filter: drop-shadow(0px 1px 2px rgba(0, 0, 0, 0.3));\n",
              "      fill: #FFFFFF;\n",
              "    }\n",
              "  </style>\n",
              "\n",
              "      <script>\n",
              "        const buttonEl =\n",
              "          document.querySelector('#df-a6c0f104-35de-4e1c-867c-d57df1f0ccf8 button.colab-df-convert');\n",
              "        buttonEl.style.display =\n",
              "          google.colab.kernel.accessAllowed ? 'block' : 'none';\n",
              "\n",
              "        async function convertToInteractive(key) {\n",
              "          const element = document.querySelector('#df-a6c0f104-35de-4e1c-867c-d57df1f0ccf8');\n",
              "          const dataTable =\n",
              "            await google.colab.kernel.invokeFunction('convertToInteractive',\n",
              "                                                     [key], {});\n",
              "          if (!dataTable) return;\n",
              "\n",
              "          const docLinkHtml = 'Like what you see? Visit the ' +\n",
              "            '<a target=\"_blank\" href=https://colab.research.google.com/notebooks/data_table.ipynb>data table notebook</a>'\n",
              "            + ' to learn more about interactive tables.';\n",
              "          element.innerHTML = '';\n",
              "          dataTable['output_type'] = 'display_data';\n",
              "          await google.colab.output.renderOutput(dataTable, element);\n",
              "          const docLink = document.createElement('div');\n",
              "          docLink.innerHTML = docLinkHtml;\n",
              "          element.appendChild(docLink);\n",
              "        }\n",
              "      </script>\n",
              "    </div>\n",
              "  </div>\n",
              "  "
            ]
          },
          "metadata": {},
          "execution_count": 7
        }
      ]
    },
    {
      "cell_type": "code",
      "source": [
        "df.columns"
      ],
      "metadata": {
        "colab": {
          "base_uri": "https://localhost:8080/"
        },
        "id": "S_GZ7n4sLAPQ",
        "outputId": "5d40f00a-715f-4d4a-90f3-80b7d4d49ba7"
      },
      "execution_count": null,
      "outputs": [
        {
          "output_type": "execute_result",
          "data": {
            "text/plain": [
              "Index(['Unnamed: 0', 'Tipo', 'Nome', 'Idade', 'raca1', 'raca2', 'Genero',\n",
              "       'Cor1', 'Cor2', 'Cor3', 'TamanhoQuandoAdulto', 'TamanhoPelagem',\n",
              "       'Vacinado', 'Vermifugado', 'Castrado', 'Saude', 'Taxa',\n",
              "       'QuantidadeVideos', 'Descricao', 'QuantidadeFotos', 'VelocidadeAdocao'],\n",
              "      dtype='object')"
            ]
          },
          "metadata": {},
          "execution_count": 8
        }
      ]
    },
    {
      "cell_type": "code",
      "source": [
        "print(df.shape) "
      ],
      "metadata": {
        "colab": {
          "base_uri": "https://localhost:8080/"
        },
        "id": "EIcgwkulLATL",
        "outputId": "9e04fdfe-fde9-4381-89f6-360d9b279eb4"
      },
      "execution_count": null,
      "outputs": [
        {
          "output_type": "stream",
          "name": "stdout",
          "text": [
            "(11565, 21)\n"
          ]
        }
      ]
    },
    {
      "cell_type": "code",
      "source": [
        "print(df.isnull().sum())"
      ],
      "metadata": {
        "colab": {
          "base_uri": "https://localhost:8080/"
        },
        "id": "_B_Rosh9LAXI",
        "outputId": "6795b090-a35f-487f-b02d-2a57354a7e80"
      },
      "execution_count": null,
      "outputs": [
        {
          "output_type": "stream",
          "name": "stdout",
          "text": [
            "Unnamed: 0               0\n",
            "Tipo                     0\n",
            "Nome                   680\n",
            "Idade                    0\n",
            "raca1                    0\n",
            "raca2                    0\n",
            "Genero                   0\n",
            "Cor1                     0\n",
            "Cor2                     0\n",
            "Cor3                     0\n",
            "TamanhoQuandoAdulto      0\n",
            "TamanhoPelagem           0\n",
            "Vacinado                 0\n",
            "Vermifugado              0\n",
            "Castrado                 0\n",
            "Saude                    0\n",
            "Taxa                     0\n",
            "QuantidadeVideos         0\n",
            "Descricao                9\n",
            "QuantidadeFotos          0\n",
            "VelocidadeAdocao         0\n",
            "dtype: int64\n"
          ]
        }
      ]
    },
    {
      "cell_type": "code",
      "source": [
        "print(df.isnull().sum())"
      ],
      "metadata": {
        "colab": {
          "base_uri": "https://localhost:8080/"
        },
        "id": "wVFXuZZXLAaz",
        "outputId": "8b8b2997-e4fb-4e4b-fc5a-90e3458d4a2d"
      },
      "execution_count": null,
      "outputs": [
        {
          "output_type": "stream",
          "name": "stdout",
          "text": [
            "Unnamed: 0               0\n",
            "Tipo                     0\n",
            "Nome                   680\n",
            "Idade                    0\n",
            "raca1                    0\n",
            "raca2                    0\n",
            "Genero                   0\n",
            "Cor1                     0\n",
            "Cor2                     0\n",
            "Cor3                     0\n",
            "TamanhoQuandoAdulto      0\n",
            "TamanhoPelagem           0\n",
            "Vacinado                 0\n",
            "Vermifugado              0\n",
            "Castrado                 0\n",
            "Saude                    0\n",
            "Taxa                     0\n",
            "QuantidadeVideos         0\n",
            "Descricao                9\n",
            "QuantidadeFotos          0\n",
            "VelocidadeAdocao         0\n",
            "dtype: int64\n"
          ]
        }
      ]
    },
    {
      "cell_type": "code",
      "source": [
        "porcentagem_nulos = df.isnull().mean() * 100\n",
        "\n",
        "print(porcentagem_nulos.sort_values(ascending=False))"
      ],
      "metadata": {
        "colab": {
          "base_uri": "https://localhost:8080/"
        },
        "id": "sPcQ-VgYLAee",
        "outputId": "e42dc974-2e76-4408-ebe0-9ffb221f5a15"
      },
      "execution_count": null,
      "outputs": [
        {
          "output_type": "stream",
          "name": "stdout",
          "text": [
            "Nome                   5.879810\n",
            "Descricao              0.077821\n",
            "Unnamed: 0             0.000000\n",
            "TamanhoPelagem         0.000000\n",
            "QuantidadeFotos        0.000000\n",
            "QuantidadeVideos       0.000000\n",
            "Taxa                   0.000000\n",
            "Saude                  0.000000\n",
            "Castrado               0.000000\n",
            "Vermifugado            0.000000\n",
            "Vacinado               0.000000\n",
            "TamanhoQuandoAdulto    0.000000\n",
            "Tipo                   0.000000\n",
            "Cor3                   0.000000\n",
            "Cor2                   0.000000\n",
            "Cor1                   0.000000\n",
            "Genero                 0.000000\n",
            "raca2                  0.000000\n",
            "raca1                  0.000000\n",
            "Idade                  0.000000\n",
            "VelocidadeAdocao       0.000000\n",
            "dtype: float64\n"
          ]
        }
      ]
    },
    {
      "cell_type": "code",
      "source": [
        "df.groupby('VelocidadeAdocao')['Idade'].mean()"
      ],
      "metadata": {
        "colab": {
          "base_uri": "https://localhost:8080/"
        },
        "id": "xAnNcpQOLAiD",
        "outputId": "2b439da6-591f-474a-b770-40a9c0dec7b9"
      },
      "execution_count": null,
      "outputs": [
        {
          "output_type": "execute_result",
          "data": {
            "text/plain": [
              "VelocidadeAdocao\n",
              "0    11.586103\n",
              "1     9.355064\n",
              "2    10.014859\n",
              "3    11.550940\n",
              "4    15.737987\n",
              "Name: Idade, dtype: float64"
            ]
          },
          "metadata": {},
          "execution_count": 13
        }
      ]
    },
    {
      "cell_type": "code",
      "source": [
        "plt.hist(df['Idade'], bins=10)\n",
        "plt.xlabel('Idade')\n",
        "plt.ylabel('Frequência')\n",
        "plt.title('Distribuição da Idade')\n",
        "plt.show()"
      ],
      "metadata": {
        "colab": {
          "base_uri": "https://localhost:8080/",
          "height": 472
        },
        "id": "HtLXCl-RLAmP",
        "outputId": "be4aedab-9a48-4908-a9b2-a68f6d36c4ff"
      },
      "execution_count": null,
      "outputs": [
        {
          "output_type": "display_data",
          "data": {
            "text/plain": [
              "<Figure size 640x480 with 1 Axes>"
            ],
            "image/png": "[encoded data removed]"
          },
          "metadata": {}
        }
      ]
    },
    {
      "cell_type": "code",
      "source": [
        "df['Genero'].value_counts().plot(kind='bar')\n",
        "plt.xlabel('Gênero')\n",
        "plt.ylabel('Quantidade de Adoções')\n",
        "plt.title('Adoções por Gênero')\n",
        "plt.show()"
      ],
      "metadata": {
        "colab": {
          "base_uri": "https://localhost:8080/",
          "height": 467
        },
        "id": "Bu6aFSUdLArL",
        "outputId": "891f9e78-70a4-4572-9abd-784076c4bbf4"
      },
      "execution_count": null,
      "outputs": [
        {
          "output_type": "display_data",
          "data": {
            "text/plain": [
              "<Figure size 640x480 with 1 Axes>"
            ],
            "image/png": "[encoded data removed]"
          },
          "metadata": {}
        }
      ]
    },
    {
      "cell_type": "code",
      "source": [
        "plt.scatter(df['Idade'], df['VelocidadeAdocao'])\n",
        "plt.xlabel('Idade')\n",
        "plt.ylabel('Velocidade de Adoção')\n",
        "plt.title('Idade vs Velocidade de Adoção')\n",
        "plt.show()"
      ],
      "metadata": {
        "colab": {
          "base_uri": "https://localhost:8080/",
          "height": 472
        },
        "id": "BBFbJ2AMLAyA",
        "outputId": "99584354-1ae4-414b-e144-a84c570a862b"
      },
      "execution_count": null,
      "outputs": [
        {
          "output_type": "display_data",
          "data": {
            "text/plain": [
              "<Figure size 640x480 with 1 Axes>"
            ],
            "image/png": "[encoded data removed]"
          },
          "metadata": {}
        }
      ]
    },
    {
      "cell_type": "code",
      "source": [
        "media_idade = df['Idade'].mean()\n",
        "total_adocoes = df.shape[0]\n",
        "print(f\"Média de idade dos animais adotados: {media_idade:.2f} anos\")\n",
        "print(f\"Total de adoções registradas: {total_adocoes}\")"
      ],
      "metadata": {
        "colab": {
          "base_uri": "https://localhost:8080/"
        },
        "id": "mW3P8UqvLA3h",
        "outputId": "b55c0859-f3c2-435a-9627-57ad837d9b33"
      },
      "execution_count": null,
      "outputs": [
        {
          "output_type": "stream",
          "name": "stdout",
          "text": [
            "Média de idade dos animais adotados: 11.78 anos\n",
            "Total de adoções registradas: 11565\n"
          ]
        }
      ]
    },
    {
      "cell_type": "code",
      "source": [
        "#Implementação da IA"
      ],
      "metadata": {
        "id": "G-B7tGPYMvN6"
      },
      "execution_count": null,
      "outputs": []
    },
    {
      "cell_type": "code",
      "source": [
        "import pandas as pd\n",
        "from sklearn.model_selection import train_test_split\n",
        "from sklearn.linear_model import LinearRegression\n",
        "from sklearn.metrics import mean_squared_error\n",
        "from sklearn.preprocessing import StandardScaler"
      ],
      "metadata": {
        "id": "AXP5DsPMMyHF"
      },
      "execution_count": null,
      "outputs": []
    },
    {
      "cell_type": "code",
      "source": [
        "X = df.drop('VelocidadeAdocao', axis=1)\n",
        "y = df['VelocidadeAdocao']\n",
        "\n",
        "X_train, X_test, y_train, y_test = train_test_split(X, y, test_size=0.2, random_state=42)"
      ],
      "metadata": {
        "id": "2-O6FVFJM9rE"
      },
      "execution_count": null,
      "outputs": []
    },
    {
      "cell_type": "code",
      "source": [
        "scaler = StandardScaler()\n",
        "X_train_scaled = scaler.fit_transform(X_train)\n",
        "X_test_scaled = scaler.transform(X_test)"
      ],
      "metadata": {
        "id": "aLFnvQGONGJ9"
      },
      "execution_count": null,
      "outputs": []
    },
    {
      "cell_type": "code",
      "source": [
        "word1 = 'chocolate'\n",
        "word2 ='Jolly Fka Judy'\n",
        "\n",
        "for i in word2:\n",
        "    word1 = word1.replace(i, '')\n",
        "    \n",
        "print(word1)"
      ],
      "metadata": {
        "id": "nDt8h8DcPg5t"
      },
      "execution_count": null,
      "outputs": []
    },
    {
      "cell_type": "code",
      "source": [
        "model = LinearRegression()"
      ],
      "metadata": {
        "id": "FrJ7SH48NWQC"
      },
      "execution_count": null,
      "outputs": []
    },
    {
      "cell_type": "code",
      "source": [
        "model.fit(X_train_scaled, y_train)"
      ],
      "metadata": {
        "id": "GjSTUUfQNY7X"
      },
      "execution_count": null,
      "outputs": []
    },
    {
      "cell_type": "code",
      "source": [
        "y_pred = model.predict(X_test_scaled)"
      ],
      "metadata": {
        "id": "Q68tV29TNjNW"
      },
      "execution_count": null,
      "outputs": []
    },
    {
      "cell_type": "code",
      "source": [],
      "metadata": {
        "id": "FsX7frgtTWfM"
      },
      "execution_count": null,
      "outputs": []
    }
  ]
}